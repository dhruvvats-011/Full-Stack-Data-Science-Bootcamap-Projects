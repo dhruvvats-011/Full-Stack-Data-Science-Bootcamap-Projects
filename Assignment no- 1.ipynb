{
 "cells": [
  {
   "cell_type": "code",
   "execution_count": null,
   "id": "6b17d7f0",
   "metadata": {},
   "outputs": [],
   "source": [
    "1. In the below elements which of them are values or an expression? \n",
    "eg:- values can be integer or string and expressions will be mathematical operators.\n",
    "*\n",
    "'hello'\n",
    "-87.8\n",
    "-\n",
    "/\n",
    "+\n",
    "6"
   ]
  },
  {
   "cell_type": "code",
   "execution_count": null,
   "id": "fb39d3d2",
   "metadata": {},
   "outputs": [],
   "source": [
    "Answer- 4 Operators and 3 expressions\n",
    "OPERATORS:*,-,/,+\n",
    "EXPRESSIONS: -87.8,'HELLO',6    "
   ]
  },
  {
   "cell_type": "code",
   "execution_count": null,
   "id": "cea9df3a",
   "metadata": {},
   "outputs": [],
   "source": [
    "2. What is the difference between string and variable?\n"
   ]
  },
  {
   "cell_type": "code",
   "execution_count": null,
   "id": "d161a1f2",
   "metadata": {},
   "outputs": [],
   "source": [
    "Answer-A Variable is used to store the information, and a String is a type of information that would store in a Variable.\n",
    "       A String is a group of characters or a single character usually enclosed in Double quotes \" \" or single ' '"
   ]
  },
  {
   "cell_type": "code",
   "execution_count": null,
   "id": "1f6a44ac",
   "metadata": {},
   "outputs": [],
   "source": [
    "3. Describe three different data types."
   ]
  },
  {
   "cell_type": "code",
   "execution_count": null,
   "id": "a2691d30",
   "metadata": {},
   "outputs": [],
   "source": [
    "Answer:int data type: We can use int data type to represent whole numbers (integral values)\n",
    "float data type: We can use float data type to represent floating point values (decimal values)\n",
    "complex data type: Complex number is represented by complex class. It is specified as (real part) + (imaginary part)j."
   ]
  },
  {
   "cell_type": "code",
   "execution_count": null,
   "id": "907beb95",
   "metadata": {},
   "outputs": [],
   "source": [
    "4. What is an expression made up of? What do all expressions do?"
   ]
  },
  {
   "cell_type": "code",
   "execution_count": null,
   "id": "6452cbea",
   "metadata": {},
   "outputs": [],
   "source": [
    "Answer:An expression is a combination of values, variables, operators, and calls to functions. Expressions need to be evaluated."
   ]
  },
  {
   "cell_type": "code",
   "execution_count": null,
   "id": "c31a220e",
   "metadata": {},
   "outputs": [],
   "source": [
    "5. This assignment statements, like spam = 10. What is the difference between an expression and a statement?"
   ]
  },
  {
   "cell_type": "code",
   "execution_count": null,
   "id": "564b4209",
   "metadata": {},
   "outputs": [],
   "source": [
    "Ans: An expression is a combination of values, variables, and operators.\n",
    "When we type an expression at the prompt, the interpreter evaluates it, which means that it finds the value of the expression.\n",
    "\n",
    "eg: 4*5+20-40 is an example of a statement\n",
    "\n",
    "A statement is a unit of code that has an effect, like creating a variable or displaying a value.\n",
    "When we type a statement, the interpreter executes it, which means that it does whatever the statement says.\n",
    "In general, statements don’t have values.\n",
    "\n",
    "eg: variable declaration and assignment are statements because they do not return a value."
   ]
  },
  {
   "cell_type": "code",
   "execution_count": null,
   "id": "7f75ffde",
   "metadata": {},
   "outputs": [],
   "source": [
    "6. After running the following code, what does the variable bacon contain?\n",
    "bacon = 22\n",
    "bacon + 1"
   ]
  },
  {
   "cell_type": "code",
   "execution_count": 1,
   "id": "29e9e805",
   "metadata": {},
   "outputs": [
    {
     "name": "stdout",
     "output_type": "stream",
     "text": [
      "22\n"
     ]
    }
   ],
   "source": [
    "bacon = 22\n",
    "bacon+1\n",
    "print(bacon)"
   ]
  },
  {
   "cell_type": "code",
   "execution_count": 2,
   "id": "83ff3185",
   "metadata": {},
   "outputs": [
    {
     "name": "stdout",
     "output_type": "stream",
     "text": [
      "23\n"
     ]
    }
   ],
   "source": [
    "bacon = 22\n",
    "bacon = bacon+1\n",
    "print(bacon)"
   ]
  },
  {
   "cell_type": "code",
   "execution_count": null,
   "id": "a90cb3cc",
   "metadata": {},
   "outputs": [],
   "source": [
    "7. What should the values of the following two terms be?\n",
    "'spam'+'spamspam'\n",
    "'spam'*3"
   ]
  },
  {
   "cell_type": "code",
   "execution_count": 3,
   "id": "37354c3f",
   "metadata": {},
   "outputs": [
    {
     "name": "stdout",
     "output_type": "stream",
     "text": [
      "spamspamspam\n"
     ]
    }
   ],
   "source": [
    "print('spam'+'spamspam')"
   ]
  },
  {
   "cell_type": "code",
   "execution_count": 4,
   "id": "e295a16f",
   "metadata": {},
   "outputs": [
    {
     "name": "stdout",
     "output_type": "stream",
     "text": [
      "spamspamspam\n"
     ]
    }
   ],
   "source": [
    "print('spam'*3)"
   ]
  },
  {
   "cell_type": "code",
   "execution_count": null,
   "id": "713f9b10",
   "metadata": {},
   "outputs": [],
   "source": [
    "8. Why is eggs a valid variable name while 100 is invalid?"
   ]
  },
  {
   "cell_type": "code",
   "execution_count": null,
   "id": "8e5e1522",
   "metadata": {},
   "outputs": [],
   "source": [
    "Answer- Variable names cannot begin with a number so,eggs a valid variable name while 100 is invalid."
   ]
  },
  {
   "cell_type": "code",
   "execution_count": null,
   "id": "6df0eae2",
   "metadata": {},
   "outputs": [],
   "source": [
    "9. What three functions can be used to get the integer, floating-point number, or string version of a value?"
   ]
  },
  {
   "cell_type": "code",
   "execution_count": null,
   "id": "9a279c16",
   "metadata": {},
   "outputs": [],
   "source": [
    "Answer-The int(), float(), and str() functions will evaluate to the integer, floating-point number \n",
    "and string versions of the value passed to them."
   ]
  },
  {
   "cell_type": "code",
   "execution_count": null,
   "id": "1494b9b5",
   "metadata": {},
   "outputs": [],
   "source": [
    "10. Why does this expression cause an error? How can you fix it?\n",
    "'I have eaten' + 99 + 'burritos.'"
   ]
  },
  {
   "cell_type": "code",
   "execution_count": null,
   "id": "127b0ef6",
   "metadata": {},
   "outputs": [],
   "source": [
    "Answer-The expression causes an error because 99 is an integer, and only strings can be concatenated to other strings\n",
    "with the + operator.\n",
    "The correct way is I have eaten ' + str(99) + ' burritos.'.\n"
   ]
  },
  {
   "cell_type": "code",
   "execution_count": 11,
   "id": "a639a2bb",
   "metadata": {},
   "outputs": [
    {
     "name": "stdout",
     "output_type": "stream",
     "text": [
      "I have eaten 99 burritos.\n"
     ]
    }
   ],
   "source": [
    "print('I have eaten ' + str(99) +' burritos.')"
   ]
  },
  {
   "cell_type": "code",
   "execution_count": null,
   "id": "784d470d",
   "metadata": {},
   "outputs": [],
   "source": []
  }
 ],
 "metadata": {
  "kernelspec": {
   "display_name": "Python 3 (ipykernel)",
   "language": "python",
   "name": "python3"
  },
  "language_info": {
   "codemirror_mode": {
    "name": "ipython",
    "version": 3
   },
   "file_extension": ".py",
   "mimetype": "text/x-python",
   "name": "python",
   "nbconvert_exporter": "python",
   "pygments_lexer": "ipython3",
   "version": "3.9.13"
  }
 },
 "nbformat": 4,
 "nbformat_minor": 5
}
