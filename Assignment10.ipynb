{
 "cells": [
  {
   "cell_type": "code",
   "execution_count": null,
   "id": "b8a7044a-d522-4f28-8218-ceee6b541afb",
   "metadata": {},
   "outputs": [],
   "source": [
    "1. How do you distinguish between shutil.copy() and shutil.copytree()?"
   ]
  },
  {
   "cell_type": "code",
   "execution_count": null,
   "id": "cd957b31-d630-4663-9f8a-526c12b118ca",
   "metadata": {},
   "outputs": [],
   "source": [
    "The difference between shutil.copy() and shutil.copytree() lies in their functionality and the way they handle files and directories:\n",
    "\n",
    "shutil.copy():\n",
    "\n",
    "Used to copy a single file from one location to another.\n",
    "It copies only the contents of the file, not the directories.\n",
    "Syntax: shutil.copy(src, dst)\n",
    "If dst is a directory, the file will be copied into that directory with the same name.\n",
    "shutil.copytree():\n",
    "\n",
    "Used to copy an entire directory tree (a directory and all of its contents, including subdirectories and files) to another location.\n",
    "It recursively copies everything within the source directory.\n",
    "Syntax: shutil.copytree(src, dst)\n",
    "The dst directory must not already exist, as shutil.copytree() creates it as part of the operation."
   ]
  },
  {
   "cell_type": "code",
   "execution_count": null,
   "id": "c8d1f41d-3e37-4805-b3b8-c951f9454ce9",
   "metadata": {},
   "outputs": [],
   "source": [
    "2. What function is used to rename files??"
   ]
  },
  {
   "cell_type": "code",
   "execution_count": null,
   "id": "59a540c9-94e2-4142-bda7-592a5c5f13e9",
   "metadata": {},
   "outputs": [],
   "source": [
    "To rename files in Python, you can use the shutil.move() function, which can move a file or directory to a new location or rename it."
   ]
  },
  {
   "cell_type": "code",
   "execution_count": null,
   "id": "3551b10c-81cf-4842-a035-2cc7cf4dd1f9",
   "metadata": {},
   "outputs": [],
   "source": [
    "3. What is the difference between the delete functions in the send2trash and shutil modules?"
   ]
  },
  {
   "cell_type": "code",
   "execution_count": null,
   "id": "4cd99c08-7359-4651-ae8e-3bf0e4688657",
   "metadata": {},
   "outputs": [],
   "source": [
    "The key difference between the delete functions in the send2trash and shutil modules lies in how they handle file deletions:\n",
    "\n",
    "send2trash module:\n",
    "\n",
    "The function send2trash.send2trash() sends files or directories to the systems trash or recycle bin (depending on the operating system),\n",
    "rather than permanently deleting them.\n",
    "This allows the user to recover the files later if needed.\n",
    "Its safer because it provides an opportunity to recover files after deletion.\n",
    "\n",
    "shutil module:\n",
    "\n",
    "The function shutil.rmtree() (for directories) and os.remove() (for files) are used for permanent deletion.\n",
    "These functions do not send files to the trash. They permanently delete the file or directory from the file system.\n",
    "Once deleted, the data cannot be recovered easily unless you have specialized recovery tools."
   ]
  },
  {
   "cell_type": "code",
   "execution_count": null,
   "id": "f716ae8d-a884-4839-88c0-d01a7e209860",
   "metadata": {},
   "outputs": [],
   "source": [
    "4.ZipFile objects have a close() method just like File objects’ close() method. What ZipFile method is\n",
    "equivalent to File objects’ open() method?"
   ]
  },
  {
   "cell_type": "code",
   "execution_count": null,
   "id": "248ffe5d-c915-463f-b1db-7446391adfaf",
   "metadata": {},
   "outputs": [],
   "source": [
    "The method in the ZipFile class that is equivalent to the open() method for file objects is ZipFile.open().\n",
    "\n",
    "ZipFile.open(): This method is used to open a specific file within a zip archive for reading or writing.\n",
    "\n",
    "For reading a file inside the zip, you would use it in a similar way to how open() is used for regular files.\n",
    "The ZipFile.open() method returns a file-like object for accessing the contents of the file inside the zip archive.\n",
    "\n",
    "import zipfile\n",
    "\n",
    "with zipfile.ZipFile('archive.zip', 'r') as zipf:\n",
    "    with zipf.open('file_inside_zip.txt') as file:\n",
    "        content = file.read()\n",
    "        print(content)\n"
   ]
  },
  {
   "cell_type": "code",
   "execution_count": null,
   "id": "2f14c533-eeac-4677-ba0c-0200cb8cb137",
   "metadata": {},
   "outputs": [],
   "source": [
    "5.Create a programme that searches a folder tree for files with a certain file extension (such as .pdf\n",
    "or .jpg). Copy these files from whatever location they are in to a new folder."
   ]
  },
  {
   "cell_type": "code",
   "execution_count": null,
   "id": "be5ce89d-43f7-4dab-a5ee-03b75a53f288",
   "metadata": {},
   "outputs": [],
   "source": [
    "import os\n",
    "import shutil\n",
    "\n",
    "def search_and_copy_files(src_dir, dest_dir, file_extension):\n",
    "    os.makedirs(dest_dir, exist_ok=True)\n",
    "\n",
    "    for root, dirs, files in os.walk(src_dir):\n",
    "        for file in files:\n",
    "            if file.endswith(file_extension):\n",
    "                file_path = os.path.join(root, file)\n",
    "                shutil.copy(file_path, dest_dir)\n",
    "                print(f'Copied: {file_path} to {dest_dir}')\n",
    "\n",
    "src_directory = 'path/to/source/folder'\n",
    "dest_directory = 'path/to/destination/folder'\n",
    "file_ext = '.pdf'\n",
    "\n",
    "search_and_copy_files(src_directory, dest_directory, file_ext)\n",
    "\n"
   ]
  }
 ],
 "metadata": {
  "kernelspec": {
   "display_name": "Python 3 (ipykernel)",
   "language": "python",
   "name": "python3"
  },
  "language_info": {
   "codemirror_mode": {
    "name": "ipython",
    "version": 3
   },
   "file_extension": ".py",
   "mimetype": "text/x-python",
   "name": "python",
   "nbconvert_exporter": "python",
   "pygments_lexer": "ipython3",
   "version": "3.12.7"
  }
 },
 "nbformat": 4,
 "nbformat_minor": 5
}
