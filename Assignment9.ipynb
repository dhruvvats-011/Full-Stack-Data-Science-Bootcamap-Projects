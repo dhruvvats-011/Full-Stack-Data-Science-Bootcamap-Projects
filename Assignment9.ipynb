{
 "cells": [
  {
   "cell_type": "code",
   "execution_count": null,
   "id": "d5701892-6931-44ac-a2fb-997989a767d4",
   "metadata": {},
   "outputs": [],
   "source": [
    "1. To what does a relative path refer?\n"
   ]
  },
  {
   "cell_type": "code",
   "execution_count": null,
   "id": "4cf878c2-12aa-46be-91e4-35b6efcb3bf9",
   "metadata": {},
   "outputs": [],
   "source": [
    "A relative path refers to the location of a file or directory relative to the current working directory.\n",
    "It does not start with the root (e.g., C:\\ in Windows or / in Linux) and typically includes directories such as . (current directory)\n",
    "and .. (parent directory)."
   ]
  },
  {
   "cell_type": "code",
   "execution_count": null,
   "id": "e1dc808d-01b2-4cbf-8ec8-d72cc6df185f",
   "metadata": {},
   "outputs": [],
   "source": [
    "2. What does an absolute path start with in your operating system?"
   ]
  },
  {
   "cell_type": "code",
   "execution_count": null,
   "id": "d7c76db2-a2f7-4ad7-8ebf-6b7e5c1f50fa",
   "metadata": {},
   "outputs": [],
   "source": [
    "On Linux and macOS, an absolute path starts with a forward slash /, indicating the root directory.\n",
    "On Windows, an absolute path starts with a drive letter followed by a colon, such as C:\\."
   ]
  },
  {
   "cell_type": "code",
   "execution_count": null,
   "id": "12bff20f-b962-4dde-bfbf-33720161976c",
   "metadata": {},
   "outputs": [],
   "source": [
    "3. What do the functions os.getcwd() and os.chdir() do?"
   ]
  },
  {
   "cell_type": "code",
   "execution_count": null,
   "id": "aad4c02f-aa9b-49e6-a7b5-bdd28937150f",
   "metadata": {},
   "outputs": [],
   "source": [
    "os.getcwd(): Returns the current working directory as a string.\n",
    "os.chdir(path): Changes the current working directory to the specified path."
   ]
  },
  {
   "cell_type": "code",
   "execution_count": null,
   "id": "b047344f-7f52-43a7-b2f7-399a841005aa",
   "metadata": {},
   "outputs": [],
   "source": [
    "4. What are the . and .. folders?"
   ]
  },
  {
   "cell_type": "code",
   "execution_count": null,
   "id": "112f8c0d-ce46-43a3-b1d6-088a47fea91a",
   "metadata": {},
   "outputs": [],
   "source": [
    ". (single dot): Refers to the current directory.\n",
    ".. (double dots): Refers to the parent directory."
   ]
  },
  {
   "cell_type": "code",
   "execution_count": null,
   "id": "c3c6efb2-f515-4d27-92a5-fc14c146138e",
   "metadata": {},
   "outputs": [],
   "source": [
    "5. In C:\\bacon\\eggs\\spam.txt, which part is the dir name, and which part is the base name?"
   ]
  },
  {
   "cell_type": "code",
   "execution_count": null,
   "id": "858df94d-6364-4da4-95f2-7038bcaa8c94",
   "metadata": {},
   "outputs": [],
   "source": [
    "The directory name is C:\\bacon\\eggs, and the base name (the file itself) is spam.txt."
   ]
  },
  {
   "cell_type": "code",
   "execution_count": null,
   "id": "f14da8a5-99af-4b6b-b987-5bff4e5234f7",
   "metadata": {},
   "outputs": [],
   "source": [
    "6. What are the three “mode” arguments that can be passed to the open() function?"
   ]
  },
  {
   "cell_type": "code",
   "execution_count": null,
   "id": "ec01b5e4-f7c7-4b6f-9c7b-883299559cce",
   "metadata": {},
   "outputs": [],
   "source": [
    "'r': Read mode (default, opens the file for reading).\n",
    "'w': Write mode (opens the file for writing, truncating it if it exists).\n",
    "'a': Append mode (opens the file for writing without erasing existing content)."
   ]
  },
  {
   "cell_type": "code",
   "execution_count": null,
   "id": "d348dc97-7fff-4a98-82f2-386db59e6d9f",
   "metadata": {},
   "outputs": [],
   "source": [
    "7. What happens if an existing file is opened in write mode?"
   ]
  },
  {
   "cell_type": "code",
   "execution_count": null,
   "id": "ac4e41b9-aaa2-46e7-a115-66489428e842",
   "metadata": {},
   "outputs": [],
   "source": [
    "The existing file will be erased (its contents deleted), and a new empty file with the same name will be created.\n"
   ]
  },
  {
   "cell_type": "code",
   "execution_count": null,
   "id": "39d83589-5cda-45e1-b295-dbb0d874b5fe",
   "metadata": {},
   "outputs": [],
   "source": [
    "8. How do you tell the difference between read() and readlines()?"
   ]
  },
  {
   "cell_type": "code",
   "execution_count": null,
   "id": "7b181fbe-eec9-4a74-9323-aba987dc84b9",
   "metadata": {},
   "outputs": [],
   "source": [
    "readlines(): Reads the file line by line and returns a list of strings, where each string represents a line.\n",
    "read(): Reads the entire file content as a single string."
   ]
  },
  {
   "cell_type": "code",
   "execution_count": null,
   "id": "69e3f629-f698-4fea-b272-6a50a3b5dc55",
   "metadata": {},
   "outputs": [],
   "source": [
    "9. What data structure does a shelf value resemble?"
   ]
  },
  {
   "cell_type": "code",
   "execution_count": null,
   "id": "0ecae8c8-c9ea-4597-9732-178b8769083e",
   "metadata": {},
   "outputs": [],
   "source": [
    "A shelf value (from the shelve module) resembles a dictionary. \n",
    "It allows storing key-value pairs, where keys are strings, and values can be any Python object that can be serialized."
   ]
  }
 ],
 "metadata": {
  "kernelspec": {
   "display_name": "Python 3 (ipykernel)",
   "language": "python",
   "name": "python3"
  },
  "language_info": {
   "codemirror_mode": {
    "name": "ipython",
    "version": 3
   },
   "file_extension": ".py",
   "mimetype": "text/x-python",
   "name": "python",
   "nbconvert_exporter": "python",
   "pygments_lexer": "ipython3",
   "version": "3.12.7"
  }
 },
 "nbformat": 4,
 "nbformat_minor": 5
}
